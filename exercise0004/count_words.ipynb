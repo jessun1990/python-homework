{
 "cells": [
  {
   "cell_type": "code",
   "execution_count": 27,
   "metadata": {
    "collapsed": false,
    "deletable": true,
    "editable": true
   },
   "outputs": [
    {
     "name": "stdout",
     "output_type": "stream",
     "text": [
      "1686\n"
     ]
    }
   ],
   "source": [
    "import re\n",
    "def count_words(file):\n",
    "    file = open(file, 'rt')\n",
    "    file_text = file.read()\n",
    "    word = re.findall(r'[a-zA-Z0-9]+' ,file_text)\n",
    "    file.close()\n",
    "    print(len(word))\n",
    "    \n",
    "if __name__ == '__main__':\n",
    "    count_words(\"Article.txt\")"
   ]
  }
 ],
 "metadata": {
  "kernelspec": {
   "display_name": "Python 3",
   "language": "python",
   "name": "python3"
  },
  "language_info": {
   "codemirror_mode": {
    "name": "ipython",
    "version": 3
   },
   "file_extension": ".py",
   "mimetype": "text/x-python",
   "name": "python",
   "nbconvert_exporter": "python",
   "pygments_lexer": "ipython3",
   "version": "3.6.0"
  }
 },
 "nbformat": 4,
 "nbformat_minor": 2
}
