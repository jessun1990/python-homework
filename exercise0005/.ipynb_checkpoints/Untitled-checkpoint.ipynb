{
 "cells": [
  {
   "cell_type": "code",
   "execution_count": 1,
   "metadata": {
    "collapsed": false,
    "deletable": true,
    "editable": true
   },
   "outputs": [
    {
     "name": "stdout",
     "output_type": "stream",
     "text": [
      "Jobs Finished\n"
     ]
    }
   ],
   "source": [
    "import glob, os\n",
    "from PIL import Image\n",
    "\n",
    "def convert_images(size):\n",
    "    images = glob.glob(\"input/*.jpg\")\n",
    "    for image in images:\n",
    "        file_name, ext_name = os.path.splitext(image)\n",
    "        file_name2 = os.path.split(file_name)\n",
    "        im = Image.open(image)\n",
    "        im.thumbnail(size)\n",
    "        if not os.path.isdir(\"output\"):\n",
    "            os.mkdir(\"output\")\n",
    "        im.save(\"output/\"+file_name2[1]+ext_name)\n",
    "print(\"Jobs Finished\")\n",
    "if __name__ == '__main__':\n",
    "    image_size=[300, 300]\n",
    "    convert_images(image_size)"
   ]
  }
 ],
 "metadata": {
  "kernelspec": {
   "display_name": "my-virtualenv-python-homework",
   "language": "python",
   "name": "my-virtualenv-python-homework"
  },
  "language_info": {
   "codemirror_mode": {
    "name": "ipython",
    "version": 3
   },
   "file_extension": ".py",
   "mimetype": "text/x-python",
   "name": "python",
   "nbconvert_exporter": "python",
   "pygments_lexer": "ipython3",
   "version": "3.6.0"
  }
 },
 "nbformat": 4,
 "nbformat_minor": 2
}
